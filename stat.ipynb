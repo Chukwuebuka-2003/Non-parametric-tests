{
 "cells": [
  {
   "cell_type": "markdown",
   "metadata": {},
   "source": [
    "In this example, I'll demonstrate the Wilcoxon signed-rank test using exam scores for student who didn't study and those who did study with a study hour plan"
   ]
  },
  {
   "cell_type": "code",
   "execution_count": 38,
   "metadata": {},
   "outputs": [],
   "source": [
    "import numpy as np\n",
    "from scipy.stats import wilcoxon\n",
    "\n",
    "\n",
    "# Let's assume we have 10 students\n",
    "np.random.seed(42)  # for reproducibility\n",
    "\n",
    "# Random studying hours (1 to 9 hours)\n",
    "studying_hours = np.random.randint(1, 10, 10)  \n",
    "\n",
    "# Random exam scores before studying\n",
    "exam_scores_before = np.random.randint(50, 100, 10)  \n",
    "\n",
    "# Exam scores after studying\n",
    "exam_scores_after = np.random.randint(50, 100, 10) + studying_hours * 2  \n",
    "\n"
   ]
  },
  {
   "cell_type": "code",
   "execution_count": 39,
   "metadata": {},
   "outputs": [
    {
     "name": "stdout",
     "output_type": "stream",
     "text": [
      "Studying Hours: [7 4 8 5 7 3 7 8 5 4]\n",
      "Exam Scores Before Studying: [89 73 52 71 51 73 93 79 87 51]\n",
      "Exam Scores After Studying: [ 84  90  77  81 107  80 112  92 101  85]\n"
     ]
    }
   ],
   "source": [
    "\n",
    "print(\"Studying Hours:\", studying_hours)\n",
    "print(\"Exam Scores Before Studying:\", exam_scores_before)\n",
    "print(\"Exam Scores After Studying:\", exam_scores_after)"
   ]
  },
  {
   "cell_type": "code",
   "execution_count": 40,
   "metadata": {},
   "outputs": [
    {
     "name": "stdout",
     "output_type": "stream",
     "text": [
      "\n",
      "P-value: 0.00390625\n"
     ]
    }
   ],
   "source": [
    "#Wilcoxon signed-rank test\n",
    "_, p_value = wilcoxon(exam_scores_after - exam_scores_before)\n",
    "\n",
    "\n",
    "print(\"\\nP-value:\", p_value)\n",
    "\n"
   ]
  },
  {
   "cell_type": "code",
   "execution_count": 42,
   "metadata": {},
   "outputs": [
    {
     "name": "stdout",
     "output_type": "stream",
     "text": [
      "There is a statistically significant difference in exam scores before and after studying with a longer study hour.\n"
     ]
    }
   ],
   "source": [
    "# Interpret the results\n",
    "alpha = 0.05\n",
    "\n",
    "if p_value < 0.05:\n",
    "    print(\"There is a statistically significant difference in exam scores before and after studying with a longer study hour.\")\n",
    "else:\n",
    "    print(\"There is not enough evidence to suggest a difference in exam scores before and after studying with a longer study hour.\")\n"
   ]
  },
  {
   "cell_type": "code",
   "execution_count": null,
   "metadata": {},
   "outputs": [],
   "source": []
  }
 ],
 "metadata": {
  "kernelspec": {
   "display_name": "base",
   "language": "python",
   "name": "python3"
  },
  "language_info": {
   "codemirror_mode": {
    "name": "ipython",
    "version": 3
   },
   "file_extension": ".py",
   "mimetype": "text/x-python",
   "name": "python",
   "nbconvert_exporter": "python",
   "pygments_lexer": "ipython3",
   "version": "3.11.7"
  }
 },
 "nbformat": 4,
 "nbformat_minor": 2
}
