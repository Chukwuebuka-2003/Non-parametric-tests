{
 "cells": [
  {
   "cell_type": "markdown",
   "metadata": {},
   "source": [
    "In this example, I'll demonstrate the Wilcoxon signed-rank test using exam results from two different school courses for the same group of students"
   ]
  },
  {
   "cell_type": "code",
   "execution_count": 30,
   "metadata": {},
   "outputs": [],
   "source": [
    "import numpy as np\n",
    "from scipy.stats import wilcoxon\n",
    "\n",
    "\n",
    "np.random.seed(42) #42 was used for reproducibility\n",
    "\n",
    "# Sample data for  maths (before and after scores)\n",
    "maths_before = np.random.normal(70, 10, 30)\n",
    "maths_after = np.random.normal(75, 10, 30)\n",
    "\n",
    "# Sample data for physics (before and after scores)\n",
    "physics_before = np.random.normal(65, 12, 30)\n",
    "physics_after = np.random.normal(80, 10, 30)\n"
   ]
  },
  {
   "cell_type": "code",
   "execution_count": 32,
   "metadata": {},
   "outputs": [
    {
     "name": "stdout",
     "output_type": "stream",
     "text": [
      "Wilcoxon Signed-Rank Test Results:\n",
      "Course A:\n",
      "Statistic: 126.0\n",
      "p-value: 0.027741437777876854\n",
      "Course B:\n",
      "Statistic: 47.0\n",
      "p-value: 3.904104232788086e-05\n",
      "There is a statistically significant difference in scores for maths course.\n",
      "There is a statistically significant difference in scores for physics course.\n"
     ]
    }
   ],
   "source": [
    "\n",
    "# Calculate the differences between paired observations for each course\n",
    "maths_diff = maths_after - maths_before\n",
    "physics_df = physics_after - physics_before\n",
    "\n",
    "# Perform Wilcoxon signed-rank test for Course A\n",
    "statistic_a, p_value_a = wilcoxon(maths_diff)\n",
    "\n",
    "# Perform Wilcoxon signed-rank test for Course B\n",
    "statistic_b, p_value_b = wilcoxon(physics_df)\n",
    "\n",
    "# Output results\n",
    "print(\"Wilcoxon Signed-Rank Test Results:\")\n",
    "print(\"Course A:\")\n",
    "print(\"Statistic:\", statistic_a)\n",
    "print(\"p-value:\", p_value_a)\n",
    "print(\"Course B:\")\n",
    "print(\"Statistic:\", statistic_b)\n",
    "print(\"p-value:\", p_value_b)\n",
    "\n",
    "# Interpretation\n",
    "alpha = 0.05\n",
    "if p_value_a < alpha:\n",
    "    print(\"There is a statistically significant difference in scores for maths course.\")\n",
    "else:\n",
    "    print(\"There is no statistically significant difference in scores for maths course.\")\n",
    "\n",
    "if p_value_b < alpha:\n",
    "    print(\"There is a statistically significant difference in scores for physics course.\")\n",
    "else:\n",
    "    print(\"There is no statistically significant difference in scores for physics course.\")\n"
   ]
  },
  {
   "cell_type": "code",
   "execution_count": null,
   "metadata": {},
   "outputs": [],
   "source": []
  }
 ],
 "metadata": {
  "kernelspec": {
   "display_name": "base",
   "language": "python",
   "name": "python3"
  },
  "language_info": {
   "codemirror_mode": {
    "name": "ipython",
    "version": 3
   },
   "file_extension": ".py",
   "mimetype": "text/x-python",
   "name": "python",
   "nbconvert_exporter": "python",
   "pygments_lexer": "ipython3",
   "version": "3.11.7"
  }
 },
 "nbformat": 4,
 "nbformat_minor": 2
}
